{
 "cells": [
  {
   "cell_type": "code",
   "execution_count": 277,
   "id": "f20c2752",
   "metadata": {},
   "outputs": [],
   "source": [
    "import pandas as pd\n",
    "import numpy as np\n",
    "from sklearn.preprocessing import StandardScaler\n",
    "from sklearn.model_selection import cross_val_score\n",
    "\n",
    "\n",
    "    "
   ]
  },
  {
   "cell_type": "code",
   "execution_count": 278,
   "id": "3894790c",
   "metadata": {},
   "outputs": [
    {
     "data": {
      "text/html": [
       "<div>\n",
       "<style scoped>\n",
       "    .dataframe tbody tr th:only-of-type {\n",
       "        vertical-align: middle;\n",
       "    }\n",
       "\n",
       "    .dataframe tbody tr th {\n",
       "        vertical-align: top;\n",
       "    }\n",
       "\n",
       "    .dataframe thead th {\n",
       "        text-align: right;\n",
       "    }\n",
       "</style>\n",
       "<table border=\"1\" class=\"dataframe\">\n",
       "  <thead>\n",
       "    <tr style=\"text-align: right;\">\n",
       "      <th></th>\n",
       "      <th>age</th>\n",
       "      <th>sex</th>\n",
       "      <th>bmi</th>\n",
       "      <th>children</th>\n",
       "      <th>smoker</th>\n",
       "      <th>region</th>\n",
       "      <th>charges</th>\n",
       "    </tr>\n",
       "  </thead>\n",
       "  <tbody>\n",
       "    <tr>\n",
       "      <th>0</th>\n",
       "      <td>19.0</td>\n",
       "      <td>female</td>\n",
       "      <td>27.900</td>\n",
       "      <td>0.0</td>\n",
       "      <td>yes</td>\n",
       "      <td>southwest</td>\n",
       "      <td>16884.924</td>\n",
       "    </tr>\n",
       "    <tr>\n",
       "      <th>1</th>\n",
       "      <td>18.0</td>\n",
       "      <td>male</td>\n",
       "      <td>33.770</td>\n",
       "      <td>1.0</td>\n",
       "      <td>no</td>\n",
       "      <td>Southeast</td>\n",
       "      <td>1725.5523</td>\n",
       "    </tr>\n",
       "    <tr>\n",
       "      <th>2</th>\n",
       "      <td>28.0</td>\n",
       "      <td>male</td>\n",
       "      <td>33.000</td>\n",
       "      <td>3.0</td>\n",
       "      <td>no</td>\n",
       "      <td>southeast</td>\n",
       "      <td>$4449.462</td>\n",
       "    </tr>\n",
       "    <tr>\n",
       "      <th>3</th>\n",
       "      <td>33.0</td>\n",
       "      <td>male</td>\n",
       "      <td>22.705</td>\n",
       "      <td>0.0</td>\n",
       "      <td>no</td>\n",
       "      <td>northwest</td>\n",
       "      <td>$21984.47061</td>\n",
       "    </tr>\n",
       "    <tr>\n",
       "      <th>4</th>\n",
       "      <td>32.0</td>\n",
       "      <td>male</td>\n",
       "      <td>28.880</td>\n",
       "      <td>0.0</td>\n",
       "      <td>no</td>\n",
       "      <td>northwest</td>\n",
       "      <td>$3866.8552</td>\n",
       "    </tr>\n",
       "  </tbody>\n",
       "</table>\n",
       "</div>"
      ],
      "text/plain": [
       "    age     sex     bmi  children smoker     region       charges\n",
       "0  19.0  female  27.900       0.0    yes  southwest     16884.924\n",
       "1  18.0    male  33.770       1.0     no  Southeast     1725.5523\n",
       "2  28.0    male  33.000       3.0     no  southeast     $4449.462\n",
       "3  33.0    male  22.705       0.0     no  northwest  $21984.47061\n",
       "4  32.0    male  28.880       0.0     no  northwest    $3866.8552"
      ]
     },
     "execution_count": 278,
     "metadata": {},
     "output_type": "execute_result"
    }
   ],
   "source": [
    "#load dataset\n",
    "\n",
    "df = pd.read_csv(r'C:\\Users\\Public\\Documents\\insurance.csv')\n",
    "df.head()"
   ]
  },
  {
   "cell_type": "code",
   "execution_count": 279,
   "id": "b3407214",
   "metadata": {},
   "outputs": [
    {
     "name": "stdout",
     "output_type": "stream",
     "text": [
      "<class 'pandas.core.frame.DataFrame'>\n",
      "Index: 1208 entries, 0 to 1337\n",
      "Data columns (total 7 columns):\n",
      " #   Column    Non-Null Count  Dtype  \n",
      "---  ------    --------------  -----  \n",
      " 0   age       1208 non-null   float64\n",
      " 1   sex       1208 non-null   object \n",
      " 2   bmi       1208 non-null   float64\n",
      " 3   children  1208 non-null   float64\n",
      " 4   smoker    1208 non-null   bool   \n",
      " 5   region    1208 non-null   object \n",
      " 6   charges   1207 non-null   float64\n",
      "dtypes: bool(1), float64(4), object(2)\n",
      "memory usage: 67.2+ KB\n",
      "<class 'pandas.core.frame.DataFrame'>\n",
      "Index: 1207 entries, 0 to 1337\n",
      "Data columns (total 7 columns):\n",
      " #   Column    Non-Null Count  Dtype  \n",
      "---  ------    --------------  -----  \n",
      " 0   age       1207 non-null   float64\n",
      " 1   sex       1207 non-null   object \n",
      " 2   bmi       1207 non-null   float64\n",
      " 3   children  1207 non-null   float64\n",
      " 4   smoker    1207 non-null   bool   \n",
      " 5   region    1207 non-null   object \n",
      " 6   charges   1207 non-null   float64\n",
      "dtypes: bool(1), float64(4), object(2)\n",
      "memory usage: 67.2+ KB\n"
     ]
    },
    {
     "name": "stderr",
     "output_type": "stream",
     "text": [
      "C:\\Users\\caspe\\AppData\\Local\\Temp\\ipykernel_9900\\2619527573.py:9: SettingWithCopyWarning: \n",
      "A value is trying to be set on a copy of a slice from a DataFrame.\n",
      "Try using .loc[row_indexer,col_indexer] = value instead\n",
      "\n",
      "See the caveats in the documentation: https://pandas.pydata.org/pandas-docs/stable/user_guide/indexing.html#returning-a-view-versus-a-copy\n",
      "  df1['region'] = df1['region'].str.lower()\n",
      "C:\\Users\\caspe\\AppData\\Local\\Temp\\ipykernel_9900\\2619527573.py:13: SettingWithCopyWarning: \n",
      "A value is trying to be set on a copy of a slice from a DataFrame.\n",
      "Try using .loc[row_indexer,col_indexer] = value instead\n",
      "\n",
      "See the caveats in the documentation: https://pandas.pydata.org/pandas-docs/stable/user_guide/indexing.html#returning-a-view-versus-a-copy\n",
      "  df1['sex'] = df1['sex'].replace(sex_map)\n",
      "C:\\Users\\caspe\\AppData\\Local\\Temp\\ipykernel_9900\\2619527573.py:14: SettingWithCopyWarning: \n",
      "A value is trying to be set on a copy of a slice from a DataFrame.\n",
      "Try using .loc[row_indexer,col_indexer] = value instead\n",
      "\n",
      "See the caveats in the documentation: https://pandas.pydata.org/pandas-docs/stable/user_guide/indexing.html#returning-a-view-versus-a-copy\n",
      "  df1['smoker'] = (df1['smoker']=='yes')\n",
      "C:\\Users\\caspe\\AppData\\Local\\Temp\\ipykernel_9900\\2619527573.py:15: SettingWithCopyWarning: \n",
      "A value is trying to be set on a copy of a slice from a DataFrame.\n",
      "Try using .loc[row_indexer,col_indexer] = value instead\n",
      "\n",
      "See the caveats in the documentation: https://pandas.pydata.org/pandas-docs/stable/user_guide/indexing.html#returning-a-view-versus-a-copy\n",
      "  df1['charges'] = df1['charges'].str.strip('$').astype('float64')\n",
      "C:\\Users\\caspe\\AppData\\Local\\Temp\\ipykernel_9900\\2619527573.py:16: SettingWithCopyWarning: \n",
      "A value is trying to be set on a copy of a slice from a DataFrame.\n",
      "Try using .loc[row_indexer,col_indexer] = value instead\n",
      "\n",
      "See the caveats in the documentation: https://pandas.pydata.org/pandas-docs/stable/user_guide/indexing.html#returning-a-view-versus-a-copy\n",
      "  df1['children'] = df1['children'].abs()\n"
     ]
    }
   ],
   "source": [
    "#clean data\n",
    "### - missing values\n",
    "### - standardize cats in region\n",
    "### - standardize sex\n",
    "### - change smoker to boolean\n",
    "### - standardize charges data type(float)\n",
    "\n",
    "df1 = df.dropna()\n",
    "df1['region'] = df1['region'].str.lower()\n",
    "FEMALE = 'female'\n",
    "MALE = 'male'\n",
    "sex_map={'F':FEMALE, 'woman':FEMALE, 'man':MALE, 'M':MALE}\n",
    "df1['sex'] = df1['sex'].replace(sex_map)\n",
    "df1['smoker'] = (df1['smoker']=='yes')\n",
    "df1['charges'] = df1['charges'].str.strip('$').astype('float64')\n",
    "df1['children'] = df1['children'].abs()\n",
    "\n",
    "\n",
    "df1.info()\n",
    "\n",
    "df1=df1.dropna()\n",
    "\n",
    "df1.info()\n",
    "\n",
    "\n",
    "\n",
    "\n",
    "\n",
    "\n",
    "\n",
    "\n"
   ]
  },
  {
   "cell_type": "code",
   "execution_count": 280,
   "id": "65357adc",
   "metadata": {},
   "outputs": [
    {
     "data": {
      "text/plain": [
       "<matplotlib.collections.PathCollection at 0x12148f5b920>"
      ]
     },
     "execution_count": 280,
     "metadata": {},
     "output_type": "execute_result"
    },
    {
     "data": {
      "image/png": "[encoded data removed]",
      "text/plain": [
       "<Figure size 640x480 with 1 Axes>"
      ]
     },
     "metadata": {},
     "output_type": "display_data"
    }
   ],
   "source": [
    "#create scatter plots\n",
    "\n",
    "import matplotlib.pyplot as plt\n",
    "\n",
    "plt.scatter(df1['bmi'],     df1['charges'])\n"
   ]
  },
  {
   "cell_type": "code",
   "execution_count": 281,
   "id": "cdabea79",
   "metadata": {},
   "outputs": [
    {
     "name": "stdout",
     "output_type": "stream",
     "text": [
      "<class 'pandas.core.frame.DataFrame'>\n",
      "Index: 1207 entries, 0 to 1337\n",
      "Data columns (total 9 columns):\n",
      " #   Column            Non-Null Count  Dtype  \n",
      "---  ------            --------------  -----  \n",
      " 0   age               1207 non-null   float64\n",
      " 1   bmi               1207 non-null   float64\n",
      " 2   children          1207 non-null   float64\n",
      " 3   smoker            1207 non-null   int8   \n",
      " 4   charges           1207 non-null   float64\n",
      " 5   region_northeast  1207 non-null   int8   \n",
      " 6   region_northwest  1207 non-null   int8   \n",
      " 7   region_southeast  1207 non-null   int8   \n",
      " 8   is male           1207 non-null   int8   \n",
      "dtypes: float64(4), int8(5)\n",
      "memory usage: 53.0 KB\n"
     ]
    }
   ],
   "source": [
    "#prepare data for model\n",
    "\n",
    "\n",
    "df_data = pd.get_dummies(df1, columns=['region'], prefix='region')\n",
    "df_data = df_data.drop(columns=['region_southwest'])\n",
    "cols_to_convert = ['region_northeast', 'region_northwest', 'region_southeast']\n",
    "df_data[cols_to_convert] = df_data[cols_to_convert].astype('int8')\n",
    "\n",
    "df_data['smoker'] = df_data['smoker'].astype('int8')\n",
    "df_data['is male'] = (df_data['sex']=='MALE').astype('int8')\n",
    "df_data=df_data.drop(columns=['sex'])\n",
    "\n",
    "\n",
    "df_data.info()\n"
   ]
  },
  {
   "cell_type": "code",
   "execution_count": 282,
   "id": "2ebdd3f5",
   "metadata": {},
   "outputs": [
    {
     "name": "stdout",
     "output_type": "stream",
     "text": [
      "r2 regression is 0.6662123191894117\n",
      "r2 KernelRidge regression is 0.2707193591040171\n"
     ]
    }
   ],
   "source": [
    "#fit linear regression model to data\n",
    "\n",
    "from sklearn.model_selection import train_test_split\n",
    "from sklearn.linear_model import LinearRegression\n",
    "from sklearn.metrics import r2_score\n",
    "from sklearn.kernel_ridge import KernelRidge\n",
    "\n",
    "X = df_data.drop(columns=['charges'])\n",
    "y = df_data['charges']\n",
    "\n",
    "#split data into training and test\n",
    "X_train, X_test, y_train, y_test = train_test_split(X, y, test_size=0.2, random_state=42)\n",
    "\n",
    "#create and train linear regression model\n",
    "\n",
    "model = LinearRegression()\n",
    "model.fit(X_train, y_train)\n",
    "model1 = KernelRidge(alpha=1, kernel='rbf')\n",
    "model1.fit(X_train, y_train)\n",
    "\n",
    "#make predictions\n",
    "y_pred = model.predict(X_test)\n",
    "y_pred1 = model1.predict(X_test)\n",
    "\n",
    "#calculate r2 score\n",
    "r2 = r2_score(y_test,y_pred)\n",
    "KR  = r2_score(y_test,y_pred1)\n",
    "\n",
    "#print result\n",
    "print(f'r2 regression is {r2}') \n",
    "print(f'r2 KernelRidge regression is {KR}')\n",
    "\n",
    "#use linear regression as far better r2 score\n"
   ]
  },
  {
   "cell_type": "code",
   "execution_count": 283,
   "id": "47754924",
   "metadata": {},
   "outputs": [],
   "source": [
    "#create function to preprocess validated dataset\n",
    "\n",
    "def preprocess_df(df1):\n",
    "    df_data = pd.get_dummies(df1, columns=['region'], prefix='region')\n",
    "    df_data = df_data.drop(columns=['region_southwest'])\n",
    "    cols_to_convert = ['region_northeast', 'region_northwest', 'region_southeast']\n",
    "    df_data[cols_to_convert] = df_data[cols_to_convert].astype('int8')\n",
    "    \n",
    "    df_data['smoker'] = (df_data['smoker']=='yes')\n",
    "    df_data['smoker'] = df_data['smoker'].astype('int8')\n",
    "    df_data['is male'] = (df_data['sex']=='MALE').astype('int8')\n",
    "    df_data=df_data.drop(columns=['sex'])\n",
    "\n",
    "    return df_data"
   ]
  },
  {
   "cell_type": "code",
   "execution_count": 284,
   "id": "587f6f30",
   "metadata": {},
   "outputs": [],
   "source": [
    "#check how model performs on validated dataset\n",
    "#we are using model=LinearRegression because it gave best results earlier\n",
    "\n",
    "val_df = pd.read_csv(r\"C:\\Users\\Public\\Documents\\validation_dataset.csv\")\n",
    "input_df1 = preprocess_df(val_df)\n",
    "pred = model.predict(input_df1)\n",
    "\n",
    "val_df['predicted charges'] = pred\n",
    "val_df.to_csv(r\"C:\\Users\\Public\\Documents\\predicted_charges.csv\", index=False)"
   ]
  }
 ],
 "metadata": {
  "kernelspec": {
   "display_name": "base",
   "language": "python",
   "name": "python3"
  },
  "language_info": {
   "codemirror_mode": {
    "name": "ipython",
    "version": 3
   },
   "file_extension": ".py",
   "mimetype": "text/x-python",
   "name": "python",
   "nbconvert_exporter": "python",
   "pygments_lexer": "ipython3",
   "version": "3.12.7"
  }
 },
 "nbformat": 4,
 "nbformat_minor": 5
}
